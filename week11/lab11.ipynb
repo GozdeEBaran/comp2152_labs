{
 "cells": [
  {
   "cell_type": "code",
   "execution_count": null,
   "metadata": {
    "vscode": {
     "languageId": "plaintext"
    }
   },
   "outputs": [],
   "source": [
    "class Person:\n",
    "    # constructor\n",
    "    def _init_(self, p_name, p_age, p_height):\n",
    "        print(\"Constructing the person object\")\n",
    "        # __ before name makes the property private\n",
    "        self.__name = p_name\n",
    "        self.__age = p_age\n",
    "        self.__height = p_height\n",
    "        self.public_prop = \"I am Public\"\n",
    "\n",
    "    # getter for name: version 1\n",
    "    @property\n",
    "    def name(self):\n",
    "        return self.__name\n",
    "        \n",
    "    # setter for name\n",
    "    @name.setter\n",
    "    def name(self, new_name):\n",
    "        self.__name = new_name\n",
    "\n",
    "    def _del_(self):\n",
    "        print(\"The garbage collector is automatically destroying the person object\")\n",
    "\n",
    "# version 1\n",
    "person1 = Person(\"Mark\", 20, 6)\n",
    "print(\"The name of the person is: \" + str(person1.name))\n",
    "\n",
    "person1.name = \"Alfred\"\n",
    "print(\"The name of the person is: \" + str(person1.name))\n",
    "\n",
    "print(\"Public \" + str(person1.public_prop))"
   ]
  }
 ],
 "metadata": {
  "language_info": {
   "name": "python"
  }
 },
 "nbformat": 4,
 "nbformat_minor": 2
}
