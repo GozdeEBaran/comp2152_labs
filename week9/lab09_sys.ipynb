{
 "cells": [
  {
   "cell_type": "code",
   "execution_count": null,
   "metadata": {
    "vscode": {
     "languageId": "plaintext"
    }
   },
   "outputs": [],
   "source": [
    "import os\n",
    "import platform\n",
    "import socket\n",
    "import sys\n",
    "\n",
    "print(\"Current Maachine Type\")\n",
    "print(platform.machine())\n",
    "print(\"=====================================\")\n",
    "\n",
    "\n",
    "print(\"Current Processor Type\")\n",
    "print(platform.processor())\n",
    "print(\"=====================================\")\n",
    "\n",
    "print(\"set socket timeout to 50 seconds\")\n",
    "print(socket.setdefaulttimeout(50))\n",
    "print(\"get the current socket timeout\")\n",
    "print(socket.getdefaulttimeout())\n",
    "print(\"=====================================\")\n",
    "\n",
    "print(\"get the current operating system type\")\n",
    "print(os.name)\n",
    "print(\"get the current operating system name\")\n",
    "print(platform.system())\n",
    "print(\"=====================================\")\n",
    "\n",
    "print(\"get the current Process ID\")\n",
    "print(os.getpid())\n",
    "print(\"=====================================\")\n",
    "\n",
    "file_name = \"fdpractice.txt\"\n",
    "print(f\"\\n[Before Fork] Process {os.getpid()}\")\n",
    "file_handler = os.open(file_name, os.O_RDWR | os.O_CREAT)\n",
    "print(f\"\\n[Process {os.getpid()}] Opened file_handler: {file_handler}\")\n",
    "\n",
    "file_object_TextIO = os.fdopen(file_handler, \"w\")\n",
    "\n",
    "file_object_TextIO.write(\"Some String to write to the file\")\n",
    "file_object_TextIO.flush()\n",
    "\n",
    "print(f\"\\n[Before Fork] Process {os.getpid()} Forking now\")\n",
    "pid = os.fork()\n",
    "\n",
    "if pid == 0:\n",
    "    # Child Process\n",
    "    print(f\"\\n[PID {pid()} has Parent Process ID: {os.getpid}] Process\")\n",
    "    os.lseek(file_handler, 0, 0)\n",
    "\n",
    "    print(f\"[Child Process {os.getpid()}] File Contents: {os.read(file_handler, 100).decode()}\")\n",
    "\n",
    "    os.close(file_handler)\n",
    "    sys.exit(0)\n",
    "else:\n",
    "    print(f\"\\n[Prent Process ID: {os.getpid()}],  Child PID: {pid}\")\n",
    "    print(\"wait for the child to complete the execution\")\n",
    "    os.wait()\n",
    "    print(\"Child process has completed\")\n",
    "    file_object_TextIO.close()\n",
    "\n",
    "print(f\"\\n [Process : {os.getpid()}] file Closed now\")\n",
    "sys.exit(0)\n",
    "print(\"=====================================\")\n"
   ]
  }
 ],
 "metadata": {
  "language_info": {
   "name": "python"
  }
 },
 "nbformat": 4,
 "nbformat_minor": 2
}
