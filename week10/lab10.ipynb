{
 "cells": [
  {
   "cell_type": "code",
   "execution_count": null,
   "metadata": {
    "vscode": {
     "languageId": "plaintext"
    }
   },
   "outputs": [],
   "source": [
    "\n",
    "import sqlite3\n",
    "from contextlib import closing\n",
    "\n",
    "db_path=\"sqlite3.db\"\n",
    "\n",
    "try:\n",
    "    with closing(sqlite3.connect(db_path)) as db_con:\n",
    "        db_con.row_factory = sqlite3.Row # Enable dictionary-like row access\n",
    "        with closing(db_con.cursor()) as cursor:\n",
    "            # Query rows with ID > 14\n",
    "            try:\n",
    "                query_1 = \"SELECT * FROM demo WHERE id > 14\"\n",
    "                cursor.execute(query_1)\n",
    "                rows = cursor.fetchall()\n",
    "                print(\"Name of rows with id > 14:\")\n",
    "                for row in rows:\n",
    "                    print(row[\"name\"])\n",
    "            except Exception as e:\n",
    "                print(f\"Error executing query_1: {e}\")  \n",
    "            # Delete Row based on User Input  \n",
    "            try:\n",
    "                del_row = int(input(\"Enter the row ID threshold for deletion:\"))\n",
    "                query_2 = \"DELETE FROM demo WHERE id < ?\"\n",
    "                cursor.execute(query_2, (del_row,))\n",
    "                num_rows = cursor.rowcount\n",
    "                print(f\"{num_rows} rows affected. Are you sure you want to continue?\")\n",
    "                db_con.commit()\n",
    "            except Exception as e:            \n",
    "                print(f\"Error executing query_2: {e}\")\n",
    "except sqlite3.Error as e:    \n",
    "    print(f\"Database connection error: {e}\")\n"
   ]
  }
 ],
 "metadata": {
  "language_info": {
   "name": "python"
  }
 },
 "nbformat": 4,
 "nbformat_minor": 2
}
