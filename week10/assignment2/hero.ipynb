{
 "cells": [
  {
   "cell_type": "code",
   "execution_count": 1,
   "id": "d6b9e763",
   "metadata": {},
   "outputs": [],
   "source": [
    "import random\n",
    "\n",
    "class Character:\n",
    "    def __init__(self):\n",
    "        self._combat_strength = random.randint(1, 6)\n",
    "        self._health_points = random.randint(1, 20)\n",
    "\n",
    "    @property\n",
    "    def combat_strength(self):\n",
    "        return self._combat_strength\n",
    "\n",
    "    @combat_strength.setter\n",
    "    def combat_strength(self, value):\n",
    "        if value >= 0:\n",
    "            self._combat_strength = value\n",
    "\n",
    "    @property\n",
    "    def health_points(self):\n",
    "        return self._health_points\n",
    "\n",
    "    @health_points.setter\n",
    "    def health_points(self, value):\n",
    "        if value >= 0:\n",
    "            self._health_points = value\n",
    "\n",
    "    def __del__(self):\n",
    "        print(\"Character object is being destroyed\")\n",
    "\n",
    "class Hero(Character):\n",
    "    def __init__(self):\n",
    "        super().__init__()\n",
    "        print(f\"Hero starts with {self.combat_strength} combat strength and {self.health_points} health points.\")\n",
    "\n",
    "    def hero_attacks(self, monster):\n",
    "        print(f\"Hero attacks with strength {self.combat_strength}\")\n",
    "        if self.combat_strength >= monster.health_points:\n",
    "            monster.health_points = 0\n",
    "            print(\"Hero has killed the monster\")\n",
    "        else:\n",
    "            monster.health_points -= self.combat_strength\n",
    "            print(f\"Monster's health reduced to {monster.health_points}\")\n",
    "\n",
    "    def __del__(self):\n",
    "        print(\"The Hero object is being destroyed by the garbage collector\")\n",
    "        super().__del__()\n"
   ]
  },
  {
   "cell_type": "code",
   "execution_count": null,
   "id": "04611f83-b0e3-4006-9021-89784ccc474d",
   "metadata": {},
   "outputs": [],
   "source": []
  }
 ],
 "metadata": {
  "kernelspec": {
   "display_name": "Python 3 (ipykernel)",
   "language": "python",
   "name": "python3"
  },
  "language_info": {
   "codemirror_mode": {
    "name": "ipython",
    "version": 3
   },
   "file_extension": ".py",
   "mimetype": "text/x-python",
   "name": "python",
   "nbconvert_exporter": "python",
   "pygments_lexer": "ipython3",
   "version": "3.9.21"
  }
 },
 "nbformat": 4,
 "nbformat_minor": 5
}
