{
 "cells": [
  {
   "cell_type": "code",
   "execution_count": null,
   "id": "8d651325",
   "metadata": {},
   "outputs": [],
   "source": [
    "\n",
    "import random\n",
    "\n",
    "class Character:\n",
    "    def __init__(self):\n",
    "        self._combat_strength = random.randint(1, 6)\n",
    "        self._health_points = random.randint(1, 20)\n",
    "\n",
    "    @property\n",
    "    def combat_strength(self):\n",
    "        return self._combat_strength\n",
    "\n",
    "    @combat_strength.setter\n",
    "    def combat_strength(self, value):\n",
    "        if value >= 0:\n",
    "            self._combat_strength = value\n",
    "\n",
    "    @property\n",
    "    def health_points(self):\n",
    "        return self._health_points\n",
    "\n",
    "    @health_points.setter\n",
    "    def health_points(self, value):\n",
    "        if value >= 0:\n",
    "            self._health_points = value\n",
    "\n",
    "    def __del__(self):\n",
    "        print(\"Character object is being destroyed\")\n"
   ]
  }
 ],
 "metadata": {
  "kernelspec": {
   "display_name": "Python 3 (ipykernel)",
   "language": "python",
   "name": "python3"
  },
  "language_info": {
   "codemirror_mode": {
    "name": "ipython",
    "version": 3
   },
   "file_extension": ".py",
   "mimetype": "text/x-python",
   "name": "python",
   "nbconvert_exporter": "python",
   "pygments_lexer": "ipython3",
   "version": "3.9.21"
  }
 },
 "nbformat": 4,
 "nbformat_minor": 5
}
