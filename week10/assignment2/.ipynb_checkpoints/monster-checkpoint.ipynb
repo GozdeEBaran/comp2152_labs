{
 "cells": [
  {
   "cell_type": "code",
   "execution_count": null,
   "id": "e842e9ff",
   "metadata": {},
   "outputs": [],
   "source": [
    "\n",
    "from character import Character\n",
    "\n",
    "class Monster(Character):\n",
    "    def __init__(self):\n",
    "        super().__init__()\n",
    "        print(f\"Monster starts with {self.combat_strength} combat strength and {self.health_points} health points.\")\n",
    "\n",
    "    def monster_attacks(self, hero):\n",
    "        print(f\"Monster attacks with strength {self.combat_strength}\")\n",
    "        if self.combat_strength >= hero.health_points:\n",
    "            hero.health_points = 0\n",
    "            print(\"Monster has killed the hero\")\n",
    "        else:\n",
    "            hero.health_points -= self.combat_strength\n",
    "            print(f\"Hero's health reduced to {hero.health_points}\")\n",
    "\n",
    "    def __del__(self):\n",
    "        print(\"The Monster object is being destroyed by the garbage collector\")\n",
    "        super().__del__()\n"
   ]
  }
 ],
 "metadata": {},
 "nbformat": 4,
 "nbformat_minor": 5
}
