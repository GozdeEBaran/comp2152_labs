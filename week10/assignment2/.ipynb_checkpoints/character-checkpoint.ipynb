{
 "cells": [
  {
   "cell_type": "code",
   "execution_count": null,
   "metadata": {
    "vscode": {
     "languageId": "plaintext"
    }
   },
   "outputs": [],
   "source": [
    "\n",
    "import random\n",
    "\n",
    "class Character:\n",
    "    def __init__(self):\n",
    "        self._combat_strength = random.randint(1, 6)\n",
    "        self._health_points = random.randint(1, 20)\n",
    "\n",
    "    @property\n",
    "    def combat_strength(self):\n",
    "        return self._combat_strength\n",
    "\n",
    "    @combat_strength.setter\n",
    "    def combat_strength(self, value):\n",
    "        if value > 0:\n",
    "            self._combat_strength = value\n",
    "        else:\n",
    "            raise ValueError(\"Combat strength must be positive\")\n",
    "\n",
    "    @property\n",
    "    def health_points(self):\n",
    "        return self._health_points\n",
    "\n",
    "    @health_points.setter\n",
    "    def health_points(self, value):\n",
    "        if value >= 0:\n",
    "            self._health_points = value\n",
    "        else:\n",
    "            raise ValueError(\"Health points cannot be negative\")\n",
    "\n",
    "    def __del__(self):\n",
    "        print(f\"The {self.__class__.__name__} object is being destroyed by the garbage collector\")\n"
   ]
  }
 ],
 "metadata": {
  "language_info": {
   "name": "python"
  }
 },
 "nbformat": 4,
 "nbformat_minor": 2
}
